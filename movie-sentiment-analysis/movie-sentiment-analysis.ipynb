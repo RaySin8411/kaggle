{
 "cells": [
  {
   "cell_type": "markdown",
   "metadata": {},
   "source": [
    "# 1.Preparing the data"
   ]
  },
  {
   "cell_type": "code",
   "execution_count": 1,
   "metadata": {},
   "outputs": [],
   "source": [
    "import pyprind\n",
    "import pandas as pd\n",
    "from string import punctuation\n",
    "import re\n",
    "import numpy as np\n",
    "df = pd.read_csv('../input/IMDB Dataset.csv', encoding='utf-8')"
   ]
  },
  {
   "cell_type": "markdown",
   "metadata": {},
   "source": [
    "# 2.Convering a text into a list of integers"
   ]
  },
  {
   "cell_type": "code",
   "execution_count": 2,
   "metadata": {},
   "outputs": [
    {
     "name": "stderr",
     "output_type": "stream",
     "text": [
      "Counting words occurrences\n",
      "0% [##############################] 100% | ETA: 00:00:00\n",
      "Total time elapsed: 00:03:38\n",
      "Map reviews to ints\n"
     ]
    },
    {
     "name": "stdout",
     "output_type": "stream",
     "text": [
      "['the', '.', ',', 'and', 'a']\n"
     ]
    },
    {
     "name": "stderr",
     "output_type": "stream",
     "text": [
      "0% [##############################] 100% | ETA: 00:00:00\n",
      "Total time elapsed: 00:00:03\n"
     ]
    }
   ],
   "source": [
    "from collections import Counter\n",
    "counts = Counter()\n",
    "pbar = pyprind.ProgBar(len(df['review']), title='Counting words occurrences')\n",
    "for i,review in enumerate(df['review']):\n",
    "    text=''.join([c if c not in punctuation else ' '+c+' ' for c in review]).lower()\n",
    "    df.loc[i,'review'] = text\n",
    "    pbar.update()\n",
    "    counts.update(text.split())\n",
    "\n",
    "## Create a mapping\n",
    "## Map each unique word to an integer\n",
    "word_counts = sorted(counts, key=counts.get, reverse=True)\n",
    "print(word_counts[:5])\n",
    "word_to_int = {word: ii for ii, word in enumerate(word_counts, 1)}\n",
    "\n",
    "mapped_reviews = []\n",
    "pbar = pyprind.ProgBar(len(df['review']), title='Map reviews to ints')\n",
    "for review in df['review']:\n",
    "    mapped_reviews.append([word_to_int[word] for word in review.split()])\n",
    "    pbar.update()"
   ]
  },
  {
   "cell_type": "markdown",
   "metadata": {},
   "source": [
    "# 3.Filling zeros to a fixed-length sentence"
   ]
  },
  {
   "cell_type": "code",
   "execution_count": 3,
   "metadata": {},
   "outputs": [],
   "source": [
    "## Define same-length sequences\n",
    "## if sequence length < 200: left-pad with zeros\n",
    "## if sequence length > 200: use the last 200 elements\n",
    "sequence_length = 200 ## (Known as T in our RNN formulas)\n",
    "sequences = np.zeros((len(mapped_reviews), sequence_length), dtype=int)\n",
    "for i, row in enumerate(mapped_reviews):\n",
    "    review_arr = np.array(row)\n",
    "    sequences[i, -len(row):] = review_arr[-sequence_length:]"
   ]
  },
  {
   "cell_type": "markdown",
   "metadata": {},
   "source": [
    "# 4.Preparing training and testing data"
   ]
  },
  {
   "cell_type": "code",
   "execution_count": 4,
   "metadata": {},
   "outputs": [],
   "source": [
    "X_train = sequences[:25000,:]\n",
    "y_train = df.loc[:24999, 'sentiment'].values\n",
    "y_train[y_train=='positive'] = 1\n",
    "y_train[y_train=='negative'] = 0\n",
    "X_test = sequences[25000:,:]\n",
    "y_test = df.loc[25000:, 'sentiment'].values\n",
    "y_test[y_test=='positive'] = 1\n",
    "y_test[y_test=='negative'] = 0"
   ]
  },
  {
   "cell_type": "markdown",
   "metadata": {},
   "source": [
    "# 5.Bulid the model"
   ]
  },
  {
   "cell_type": "code",
   "execution_count": 5,
   "metadata": {},
   "outputs": [
    {
     "name": "stderr",
     "output_type": "stream",
     "text": [
      "Using TensorFlow backend.\n"
     ]
    },
    {
     "name": "stdout",
     "output_type": "stream",
     "text": [
      "WARNING:tensorflow:From /opt/conda/lib/python3.6/site-packages/tensorflow/python/framework/op_def_library.py:263: colocate_with (from tensorflow.python.framework.ops) is deprecated and will be removed in a future version.\n",
      "Instructions for updating:\n",
      "Colocations handled automatically by placer.\n",
      "WARNING:tensorflow:From /opt/conda/lib/python3.6/site-packages/keras/backend/tensorflow_backend.py:3445: calling dropout (from tensorflow.python.ops.nn_ops) with keep_prob is deprecated and will be removed in a future version.\n",
      "Instructions for updating:\n",
      "Please use `rate` instead of `keep_prob`. Rate should be set to `rate = 1 - keep_prob`.\n",
      "_________________________________________________________________\n",
      "Layer (type)                 Output Shape              Param #   \n",
      "=================================================================\n",
      "embedding_1 (Embedding)      (None, None, 200)         20593400  \n",
      "_________________________________________________________________\n",
      "bidirectional_1 (Bidirection (None, None, 64)          59648     \n",
      "_________________________________________________________________\n",
      "global_max_pooling1d_1 (Glob (None, 64)                0         \n",
      "_________________________________________________________________\n",
      "dense_1 (Dense)              (None, 20)                1300      \n",
      "_________________________________________________________________\n",
      "dropout_1 (Dropout)          (None, 20)                0         \n",
      "_________________________________________________________________\n",
      "dense_2 (Dense)              (None, 1)                 21        \n",
      "=================================================================\n",
      "Total params: 20,654,369\n",
      "Trainable params: 20,654,369\n",
      "Non-trainable params: 0\n",
      "_________________________________________________________________\n"
     ]
    }
   ],
   "source": [
    "from keras.preprocessing.text import Tokenizer\n",
    "from keras.preprocessing.sequence import pad_sequences\n",
    "from keras.layers import Dense , Input , LSTM , Embedding, Dropout , Activation, GRU, Flatten\n",
    "from keras.layers import Bidirectional, GlobalMaxPool1D\n",
    "from keras.models import Model, Sequential\n",
    "from keras.layers import Convolution1D\n",
    "from keras import initializers, regularizers, constraints, optimizers, layers\n",
    "n_words = max(list(word_to_int.values())) + 1\n",
    "mbed_size = 200\n",
    "model = Sequential()\n",
    "model.add(Embedding(n_words, mbed_size))\n",
    "model.add(Bidirectional(LSTM(32, return_sequences = True)))\n",
    "model.add(GlobalMaxPool1D())\n",
    "model.add(Dense(20, activation=\"relu\"))\n",
    "model.add(Dropout(0.05))\n",
    "model.add(Dense(1, activation=\"sigmoid\"))\n",
    "model.compile(loss='binary_crossentropy', optimizer='adam', metrics=['accuracy'])\n",
    "model.summary()\n"
   ]
  },
  {
   "cell_type": "markdown",
   "metadata": {},
   "source": [
    "# 5.1 Visualize model architecture"
   ]
  },
  {
   "cell_type": "code",
   "execution_count": 6,
   "metadata": {},
   "outputs": [
    {
     "data": {
      "image/svg+xml": [
       "<svg height=\"78pt\" viewBox=\"0.00 0.00 1423.00 78.00\" width=\"1423pt\" xmlns=\"http://www.w3.org/2000/svg\" xmlns:xlink=\"http://www.w3.org/1999/xlink\">\n",
       "<g class=\"graph\" id=\"graph0\" transform=\"scale(1 1) rotate(0) translate(4 74)\">\n",
       "<title>G</title>\n",
       "<polygon fill=\"white\" points=\"-4,4 -4,-74 1419,-74 1419,4 -4,4\" stroke=\"none\"/>\n",
       "<!-- 140037035553680 -->\n",
       "<g class=\"node\" id=\"node1\"><title>140037035553680</title>\n",
       "<polygon fill=\"none\" points=\"154,-0.5 154,-69.5 365,-69.5 365,-0.5 154,-0.5\" stroke=\"black\"/>\n",
       "<text font-family=\"Times,serif\" font-size=\"14.00\" text-anchor=\"middle\" x=\"259.5\" y=\"-54.3\">Embedding</text>\n",
       "<polyline fill=\"none\" points=\"154,-46.5 365,-46.5 \" stroke=\"black\"/>\n",
       "<text font-family=\"Times,serif\" font-size=\"14.00\" text-anchor=\"middle\" x=\"205\" y=\"-31.3\">input:</text>\n",
       "<polyline fill=\"none\" points=\"256,-23.5 256,-46.5 \" stroke=\"black\"/>\n",
       "<text font-family=\"Times,serif\" font-size=\"14.00\" text-anchor=\"middle\" x=\"310.5\" y=\"-31.3\">output:</text>\n",
       "<polyline fill=\"none\" points=\"154,-23.5 365,-23.5 \" stroke=\"black\"/>\n",
       "<text font-family=\"Times,serif\" font-size=\"14.00\" text-anchor=\"middle\" x=\"200\" y=\"-8.3\">(None, None)</text>\n",
       "<polyline fill=\"none\" points=\"246,-0.5 246,-23.5 \" stroke=\"black\"/>\n",
       "<text font-family=\"Times,serif\" font-size=\"14.00\" text-anchor=\"middle\" x=\"305.5\" y=\"-8.3\">(None, None, 200)</text>\n",
       "</g>\n",
       "<!-- 140035449740928 -->\n",
       "<g class=\"node\" id=\"node2\"><title>140035449740928</title>\n",
       "<polygon fill=\"none\" points=\"401,-0.5 401,-69.5 633,-69.5 633,-0.5 401,-0.5\" stroke=\"black\"/>\n",
       "<text font-family=\"Times,serif\" font-size=\"14.00\" text-anchor=\"middle\" x=\"517\" y=\"-54.3\">Bidirectional(LSTM)</text>\n",
       "<polyline fill=\"none\" points=\"401,-46.5 633,-46.5 \" stroke=\"black\"/>\n",
       "<text font-family=\"Times,serif\" font-size=\"14.00\" text-anchor=\"middle\" x=\"457\" y=\"-31.3\">input:</text>\n",
       "<polyline fill=\"none\" points=\"513,-23.5 513,-46.5 \" stroke=\"black\"/>\n",
       "<text font-family=\"Times,serif\" font-size=\"14.00\" text-anchor=\"middle\" x=\"573\" y=\"-31.3\">output:</text>\n",
       "<polyline fill=\"none\" points=\"401,-23.5 633,-23.5 \" stroke=\"black\"/>\n",
       "<text font-family=\"Times,serif\" font-size=\"14.00\" text-anchor=\"middle\" x=\"460.5\" y=\"-8.3\">(None, None, 200)</text>\n",
       "<polyline fill=\"none\" points=\"520,-0.5 520,-23.5 \" stroke=\"black\"/>\n",
       "<text font-family=\"Times,serif\" font-size=\"14.00\" text-anchor=\"middle\" x=\"576.5\" y=\"-8.3\">(None, None, 64)</text>\n",
       "</g>\n",
       "<!-- 140037035553680&#45;&gt;140035449740928 -->\n",
       "<g class=\"edge\" id=\"edge2\"><title>140037035553680-&gt;140035449740928</title>\n",
       "<path d=\"M365.159,-35C373.578,-35 382.136,-35 390.68,-35\" fill=\"none\" stroke=\"black\"/>\n",
       "<polygon fill=\"black\" points=\"390.693,-38.5001 400.693,-35 390.693,-31.5001 390.693,-38.5001\" stroke=\"black\"/>\n",
       "</g>\n",
       "<!-- 140035449739360 -->\n",
       "<g class=\"node\" id=\"node3\"><title>140035449739360</title>\n",
       "<polygon fill=\"none\" points=\"669,-0.5 669,-69.5 858,-69.5 858,-0.5 669,-0.5\" stroke=\"black\"/>\n",
       "<text font-family=\"Times,serif\" font-size=\"14.00\" text-anchor=\"middle\" x=\"763.5\" y=\"-54.3\">GlobalMaxPooling1D</text>\n",
       "<polyline fill=\"none\" points=\"669,-46.5 858,-46.5 \" stroke=\"black\"/>\n",
       "<text font-family=\"Times,serif\" font-size=\"14.00\" text-anchor=\"middle\" x=\"714.5\" y=\"-31.3\">input:</text>\n",
       "<polyline fill=\"none\" points=\"760,-23.5 760,-46.5 \" stroke=\"black\"/>\n",
       "<text font-family=\"Times,serif\" font-size=\"14.00\" text-anchor=\"middle\" x=\"809\" y=\"-31.3\">output:</text>\n",
       "<polyline fill=\"none\" points=\"669,-23.5 858,-23.5 \" stroke=\"black\"/>\n",
       "<text font-family=\"Times,serif\" font-size=\"14.00\" text-anchor=\"middle\" x=\"725.5\" y=\"-8.3\">(None, None, 64)</text>\n",
       "<polyline fill=\"none\" points=\"782,-0.5 782,-23.5 \" stroke=\"black\"/>\n",
       "<text font-family=\"Times,serif\" font-size=\"14.00\" text-anchor=\"middle\" x=\"820\" y=\"-8.3\">(None, 64)</text>\n",
       "</g>\n",
       "<!-- 140035449740928&#45;&gt;140035449739360 -->\n",
       "<g class=\"edge\" id=\"edge3\"><title>140035449740928-&gt;140035449739360</title>\n",
       "<path d=\"M633.091,-35C641.632,-35 650.22,-35 658.688,-35\" fill=\"none\" stroke=\"black\"/>\n",
       "<polygon fill=\"black\" points=\"658.945,-38.5001 668.945,-35 658.945,-31.5001 658.945,-38.5001\" stroke=\"black\"/>\n",
       "</g>\n",
       "<!-- 140035449899272 -->\n",
       "<g class=\"node\" id=\"node4\"><title>140035449899272</title>\n",
       "<polygon fill=\"none\" points=\"894,-0.5 894,-69.5 1046,-69.5 1046,-0.5 894,-0.5\" stroke=\"black\"/>\n",
       "<text font-family=\"Times,serif\" font-size=\"14.00\" text-anchor=\"middle\" x=\"970\" y=\"-54.3\">Dense</text>\n",
       "<polyline fill=\"none\" points=\"894,-46.5 1046,-46.5 \" stroke=\"black\"/>\n",
       "<text font-family=\"Times,serif\" font-size=\"14.00\" text-anchor=\"middle\" x=\"930\" y=\"-31.3\">input:</text>\n",
       "<polyline fill=\"none\" points=\"966,-23.5 966,-46.5 \" stroke=\"black\"/>\n",
       "<text font-family=\"Times,serif\" font-size=\"14.00\" text-anchor=\"middle\" x=\"1006\" y=\"-31.3\">output:</text>\n",
       "<polyline fill=\"none\" points=\"894,-23.5 1046,-23.5 \" stroke=\"black\"/>\n",
       "<text font-family=\"Times,serif\" font-size=\"14.00\" text-anchor=\"middle\" x=\"932\" y=\"-8.3\">(None, 64)</text>\n",
       "<polyline fill=\"none\" points=\"970,-0.5 970,-23.5 \" stroke=\"black\"/>\n",
       "<text font-family=\"Times,serif\" font-size=\"14.00\" text-anchor=\"middle\" x=\"1008\" y=\"-8.3\">(None, 20)</text>\n",
       "</g>\n",
       "<!-- 140035449739360&#45;&gt;140035449899272 -->\n",
       "<g class=\"edge\" id=\"edge4\"><title>140035449739360-&gt;140035449899272</title>\n",
       "<path d=\"M858.072,-35C866.596,-35 875.201,-35 883.647,-35\" fill=\"none\" stroke=\"black\"/>\n",
       "<polygon fill=\"black\" points=\"883.856,-38.5001 893.856,-35 883.855,-31.5001 883.856,-38.5001\" stroke=\"black\"/>\n",
       "</g>\n",
       "<!-- 140035449898488 -->\n",
       "<g class=\"node\" id=\"node5\"><title>140035449898488</title>\n",
       "<polygon fill=\"none\" points=\"1082,-0.5 1082,-69.5 1234,-69.5 1234,-0.5 1082,-0.5\" stroke=\"black\"/>\n",
       "<text font-family=\"Times,serif\" font-size=\"14.00\" text-anchor=\"middle\" x=\"1158\" y=\"-54.3\">Dropout</text>\n",
       "<polyline fill=\"none\" points=\"1082,-46.5 1234,-46.5 \" stroke=\"black\"/>\n",
       "<text font-family=\"Times,serif\" font-size=\"14.00\" text-anchor=\"middle\" x=\"1118\" y=\"-31.3\">input:</text>\n",
       "<polyline fill=\"none\" points=\"1154,-23.5 1154,-46.5 \" stroke=\"black\"/>\n",
       "<text font-family=\"Times,serif\" font-size=\"14.00\" text-anchor=\"middle\" x=\"1194\" y=\"-31.3\">output:</text>\n",
       "<polyline fill=\"none\" points=\"1082,-23.5 1234,-23.5 \" stroke=\"black\"/>\n",
       "<text font-family=\"Times,serif\" font-size=\"14.00\" text-anchor=\"middle\" x=\"1120\" y=\"-8.3\">(None, 20)</text>\n",
       "<polyline fill=\"none\" points=\"1158,-0.5 1158,-23.5 \" stroke=\"black\"/>\n",
       "<text font-family=\"Times,serif\" font-size=\"14.00\" text-anchor=\"middle\" x=\"1196\" y=\"-8.3\">(None, 20)</text>\n",
       "</g>\n",
       "<!-- 140035449899272&#45;&gt;140035449898488 -->\n",
       "<g class=\"edge\" id=\"edge5\"><title>140035449899272-&gt;140035449898488</title>\n",
       "<path d=\"M1046.12,-35C1054.6,-35 1063.28,-35 1071.87,-35\" fill=\"none\" stroke=\"black\"/>\n",
       "<polygon fill=\"black\" points=\"1071.9,-38.5001 1081.9,-35 1071.9,-31.5001 1071.9,-38.5001\" stroke=\"black\"/>\n",
       "</g>\n",
       "<!-- 140035436458784 -->\n",
       "<g class=\"node\" id=\"node6\"><title>140035436458784</title>\n",
       "<polygon fill=\"none\" points=\"1270,-0.5 1270,-69.5 1415,-69.5 1415,-0.5 1270,-0.5\" stroke=\"black\"/>\n",
       "<text font-family=\"Times,serif\" font-size=\"14.00\" text-anchor=\"middle\" x=\"1342.5\" y=\"-54.3\">Dense</text>\n",
       "<polyline fill=\"none\" points=\"1270,-46.5 1415,-46.5 \" stroke=\"black\"/>\n",
       "<text font-family=\"Times,serif\" font-size=\"14.00\" text-anchor=\"middle\" x=\"1304.5\" y=\"-31.3\">input:</text>\n",
       "<polyline fill=\"none\" points=\"1339,-23.5 1339,-46.5 \" stroke=\"black\"/>\n",
       "<text font-family=\"Times,serif\" font-size=\"14.00\" text-anchor=\"middle\" x=\"1377\" y=\"-31.3\">output:</text>\n",
       "<polyline fill=\"none\" points=\"1270,-23.5 1415,-23.5 \" stroke=\"black\"/>\n",
       "<text font-family=\"Times,serif\" font-size=\"14.00\" text-anchor=\"middle\" x=\"1308\" y=\"-8.3\">(None, 20)</text>\n",
       "<polyline fill=\"none\" points=\"1346,-0.5 1346,-23.5 \" stroke=\"black\"/>\n",
       "<text font-family=\"Times,serif\" font-size=\"14.00\" text-anchor=\"middle\" x=\"1380.5\" y=\"-8.3\">(None, 1)</text>\n",
       "</g>\n",
       "<!-- 140035449898488&#45;&gt;140035436458784 -->\n",
       "<g class=\"edge\" id=\"edge6\"><title>140035449898488-&gt;140035436458784</title>\n",
       "<path d=\"M1234.02,-35C1242.41,-35 1250.98,-35 1259.45,-35\" fill=\"none\" stroke=\"black\"/>\n",
       "<polygon fill=\"black\" points=\"1259.71,-38.5001 1269.71,-35 1259.71,-31.5001 1259.71,-38.5001\" stroke=\"black\"/>\n",
       "</g>\n",
       "<!-- 140037035869968 -->\n",
       "<g class=\"node\" id=\"node7\"><title>140037035869968</title>\n",
       "<polygon fill=\"none\" points=\"0,-17 0,-53 118,-53 118,-17 0,-17\" stroke=\"black\"/>\n",
       "<text font-family=\"Times,serif\" font-size=\"14.00\" text-anchor=\"middle\" x=\"59\" y=\"-31.3\">140037035869968</text>\n",
       "</g>\n",
       "<!-- 140037035869968&#45;&gt;140037035553680 -->\n",
       "<g class=\"edge\" id=\"edge1\"><title>140037035869968-&gt;140037035553680</title>\n",
       "<path d=\"M118.215,-35C126.273,-35 134.769,-35 143.43,-35\" fill=\"none\" stroke=\"black\"/>\n",
       "<polygon fill=\"black\" points=\"143.656,-38.5001 153.656,-35 143.656,-31.5001 143.656,-38.5001\" stroke=\"black\"/>\n",
       "</g>\n",
       "</g>\n",
       "</svg>"
      ],
      "text/plain": [
       "<IPython.core.display.SVG object>"
      ]
     },
     "execution_count": 6,
     "metadata": {},
     "output_type": "execute_result"
    }
   ],
   "source": [
    "from IPython.display import SVG\n",
    "from keras.utils.vis_utils import model_to_dot\n",
    "\n",
    "SVG(model_to_dot(model, show_shapes=True, show_layer_names=False, \n",
    "                 rankdir='LR').create(prog='dot', format='svg'))"
   ]
  },
  {
   "cell_type": "markdown",
   "metadata": {},
   "source": [
    "# 6.Train the model"
   ]
  },
  {
   "cell_type": "code",
   "execution_count": 7,
   "metadata": {},
   "outputs": [
    {
     "name": "stdout",
     "output_type": "stream",
     "text": [
      "WARNING:tensorflow:From /opt/conda/lib/python3.6/site-packages/tensorflow/python/ops/math_ops.py:3066: to_int32 (from tensorflow.python.ops.math_ops) is deprecated and will be removed in a future version.\n",
      "Instructions for updating:\n",
      "Use tf.cast instead.\n",
      "WARNING:tensorflow:From /opt/conda/lib/python3.6/site-packages/tensorflow/python/ops/math_grad.py:102: div (from tensorflow.python.ops.math_ops) is deprecated and will be removed in a future version.\n",
      "Instructions for updating:\n",
      "Deprecated in favor of operator or tf.math.divide.\n",
      "Train on 17500 samples, validate on 7500 samples\n",
      "Epoch 1/3\n",
      "17500/17500 [==============================] - 85s 5ms/step - loss: 0.4951 - acc: 0.7535 - val_loss: 0.3312 - val_acc: 0.8609\n",
      "Epoch 2/3\n",
      "17500/17500 [==============================] - 81s 5ms/step - loss: 0.2039 - acc: 0.9238 - val_loss: 0.3189 - val_acc: 0.8711\n",
      "Epoch 3/3\n",
      "17500/17500 [==============================] - 82s 5ms/step - loss: 0.0891 - acc: 0.9714 - val_loss: 0.3779 - val_acc: 0.8587\n"
     ]
    },
    {
     "data": {
      "text/plain": [
       "<keras.callbacks.History at 0x7f5c8a54aa90>"
      ]
     },
     "execution_count": 7,
     "metadata": {},
     "output_type": "execute_result"
    }
   ],
   "source": [
    "batch_size = 100\n",
    "epochs = 3\n",
    "model.fit(X_train,y_train, batch_size=batch_size, epochs=epochs, validation_split=0.3)"
   ]
  },
  {
   "cell_type": "code",
   "execution_count": 8,
   "metadata": {},
   "outputs": [
    {
     "name": "stdout",
     "output_type": "stream",
     "text": [
      "F1-score: 0.8682581786030062\n",
      "Confusion matrix:\n"
     ]
    },
    {
     "data": {
      "text/plain": [
       "array([[10280,  1233],\n",
       "       [ 2194, 11293]])"
      ]
     },
     "execution_count": 8,
     "metadata": {},
     "output_type": "execute_result"
    }
   ],
   "source": [
    "prediction = model.predict(X_test)\n",
    "y_pred = (prediction > 0.5).astype(int).reshape([1,-1])[0]\n",
    "from sklearn.metrics import f1_score, confusion_matrix\n",
    "print('F1-score: {0}'.format(f1_score(y_pred, y_test.astype(int))))\n",
    "print('Confusion matrix:')\n",
    "confusion_matrix(y_pred, y_test.astype(int))"
   ]
  },
  {
   "cell_type": "code",
   "execution_count": 9,
   "metadata": {},
   "outputs": [],
   "source": []
  }
 ],
 "metadata": {
  "kernelspec": {
   "display_name": "Python 3",
   "language": "python",
   "name": "python3"
  },
  "language_info": {
   "codemirror_mode": {
    "name": "ipython",
    "version": 3
   },
   "file_extension": ".py",
   "mimetype": "text/x-python",
   "name": "python",
   "nbconvert_exporter": "python",
   "pygments_lexer": "ipython3",
   "version": "3.6.8"
  }
 },
 "nbformat": 4,
 "nbformat_minor": 1
}
