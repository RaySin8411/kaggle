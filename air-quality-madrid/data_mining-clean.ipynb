{
 "cells": [
  {
   "cell_type": "code",
   "execution_count": 1,
   "metadata": {},
   "outputs": [],
   "source": [
    "import os\n",
    "import numpy as np\n",
    "import pandas as pd\n",
    "import matplotlib.pyplot as plt"
   ]
  },
  {
   "cell_type": "markdown",
   "metadata": {},
   "source": [
    "# 1. Concatenate all data files"
   ]
  },
  {
   "cell_type": "code",
   "execution_count": 2,
   "metadata": {},
   "outputs": [],
   "source": [
    "def Data_Files(path):\n",
    "    filelist = []\n",
    "    for dirpath, dirnames, filenames in os.walk(path):\n",
    "        for name in filenames:\n",
    "            filelist.append(os.path.join(dirpath,name))\n",
    "    print(\"The number of files：\",len(filelist))\n",
    "    return filelist"
   ]
  },
  {
   "cell_type": "code",
   "execution_count": 3,
   "metadata": {},
   "outputs": [
    {
     "name": "stdout",
     "output_type": "stream",
     "text": [
      "The number of files： 18\n"
     ]
    }
   ],
   "source": [
    "csv_list = Data_Files('csvs_per_year/csvs_per_year/')"
   ]
  },
  {
   "cell_type": "code",
   "execution_count": 4,
   "metadata": {},
   "outputs": [
    {
     "name": "stderr",
     "output_type": "stream",
     "text": [
      "C:\\Users\\USER\\Anaconda3\\envs\\tftest\\lib\\site-packages\\ipykernel_launcher.py:7: FutureWarning: supplying multiple axes to axis is deprecated and will be removed in a future version.\n",
      "  import sys\n"
     ]
    }
   ],
   "source": [
    "dataset = []\n",
    "col_diff = {}\n",
    "for filename in  csv_list:\n",
    "    data_single = pd.read_csv(filename)\n",
    "    col_vab = data_single.columns.values.tolist()\n",
    "\n",
    "    data_single = data_single.dropna(axis=[0,1])\n",
    "    dataset.append(data_single)\n",
    "    dic_vab = {filename.split('/')[-1]:col_vab}\n",
    "    col_diff.update(dic_vab)"
   ]
  },
  {
   "cell_type": "code",
   "execution_count": 5,
   "metadata": {},
   "outputs": [
    {
     "data": {
      "text/html": [
       "<div>\n",
       "<style scoped>\n",
       "    .dataframe tbody tr th:only-of-type {\n",
       "        vertical-align: middle;\n",
       "    }\n",
       "\n",
       "    .dataframe tbody tr th {\n",
       "        vertical-align: top;\n",
       "    }\n",
       "\n",
       "    .dataframe thead th {\n",
       "        text-align: right;\n",
       "    }\n",
       "</style>\n",
       "<table border=\"1\" class=\"dataframe\">\n",
       "  <thead>\n",
       "    <tr style=\"text-align: right;\">\n",
       "      <th></th>\n",
       "      <th>0</th>\n",
       "      <th>1</th>\n",
       "      <th>2</th>\n",
       "      <th>3</th>\n",
       "      <th>4</th>\n",
       "      <th>5</th>\n",
       "      <th>6</th>\n",
       "      <th>7</th>\n",
       "      <th>8</th>\n",
       "      <th>9</th>\n",
       "      <th>10</th>\n",
       "      <th>11</th>\n",
       "      <th>12</th>\n",
       "      <th>13</th>\n",
       "      <th>14</th>\n",
       "      <th>15</th>\n",
       "      <th>16</th>\n",
       "    </tr>\n",
       "  </thead>\n",
       "  <tbody>\n",
       "    <tr>\n",
       "      <th>madrid_2001.csv</th>\n",
       "      <td>date</td>\n",
       "      <td>BEN</td>\n",
       "      <td>CO</td>\n",
       "      <td>EBE</td>\n",
       "      <td>MXY</td>\n",
       "      <td>NMHC</td>\n",
       "      <td>NO_2</td>\n",
       "      <td>NOx</td>\n",
       "      <td>OXY</td>\n",
       "      <td>O_3</td>\n",
       "      <td>PM10</td>\n",
       "      <td>PXY</td>\n",
       "      <td>SO_2</td>\n",
       "      <td>TCH</td>\n",
       "      <td>TOL</td>\n",
       "      <td>station</td>\n",
       "      <td>None</td>\n",
       "    </tr>\n",
       "    <tr>\n",
       "      <th>madrid_2002.csv</th>\n",
       "      <td>date</td>\n",
       "      <td>BEN</td>\n",
       "      <td>CO</td>\n",
       "      <td>EBE</td>\n",
       "      <td>MXY</td>\n",
       "      <td>NMHC</td>\n",
       "      <td>NO_2</td>\n",
       "      <td>NOx</td>\n",
       "      <td>OXY</td>\n",
       "      <td>O_3</td>\n",
       "      <td>PM10</td>\n",
       "      <td>PXY</td>\n",
       "      <td>SO_2</td>\n",
       "      <td>TCH</td>\n",
       "      <td>TOL</td>\n",
       "      <td>station</td>\n",
       "      <td>None</td>\n",
       "    </tr>\n",
       "    <tr>\n",
       "      <th>madrid_2003.csv</th>\n",
       "      <td>date</td>\n",
       "      <td>BEN</td>\n",
       "      <td>CO</td>\n",
       "      <td>EBE</td>\n",
       "      <td>MXY</td>\n",
       "      <td>NMHC</td>\n",
       "      <td>NO_2</td>\n",
       "      <td>NOx</td>\n",
       "      <td>OXY</td>\n",
       "      <td>O_3</td>\n",
       "      <td>PM10</td>\n",
       "      <td>PXY</td>\n",
       "      <td>SO_2</td>\n",
       "      <td>TCH</td>\n",
       "      <td>TOL</td>\n",
       "      <td>station</td>\n",
       "      <td>None</td>\n",
       "    </tr>\n",
       "    <tr>\n",
       "      <th>madrid_2004.csv</th>\n",
       "      <td>date</td>\n",
       "      <td>BEN</td>\n",
       "      <td>CO</td>\n",
       "      <td>EBE</td>\n",
       "      <td>MXY</td>\n",
       "      <td>NMHC</td>\n",
       "      <td>NO_2</td>\n",
       "      <td>NOx</td>\n",
       "      <td>OXY</td>\n",
       "      <td>O_3</td>\n",
       "      <td>PM10</td>\n",
       "      <td>PM25</td>\n",
       "      <td>PXY</td>\n",
       "      <td>SO_2</td>\n",
       "      <td>TCH</td>\n",
       "      <td>TOL</td>\n",
       "      <td>station</td>\n",
       "    </tr>\n",
       "    <tr>\n",
       "      <th>madrid_2005.csv</th>\n",
       "      <td>date</td>\n",
       "      <td>BEN</td>\n",
       "      <td>CO</td>\n",
       "      <td>EBE</td>\n",
       "      <td>MXY</td>\n",
       "      <td>NMHC</td>\n",
       "      <td>NO_2</td>\n",
       "      <td>NOx</td>\n",
       "      <td>OXY</td>\n",
       "      <td>O_3</td>\n",
       "      <td>PM10</td>\n",
       "      <td>PM25</td>\n",
       "      <td>PXY</td>\n",
       "      <td>SO_2</td>\n",
       "      <td>TCH</td>\n",
       "      <td>TOL</td>\n",
       "      <td>station</td>\n",
       "    </tr>\n",
       "    <tr>\n",
       "      <th>madrid_2006.csv</th>\n",
       "      <td>date</td>\n",
       "      <td>BEN</td>\n",
       "      <td>CO</td>\n",
       "      <td>EBE</td>\n",
       "      <td>MXY</td>\n",
       "      <td>NMHC</td>\n",
       "      <td>NO_2</td>\n",
       "      <td>NOx</td>\n",
       "      <td>OXY</td>\n",
       "      <td>O_3</td>\n",
       "      <td>PM10</td>\n",
       "      <td>PM25</td>\n",
       "      <td>PXY</td>\n",
       "      <td>SO_2</td>\n",
       "      <td>TCH</td>\n",
       "      <td>TOL</td>\n",
       "      <td>station</td>\n",
       "    </tr>\n",
       "    <tr>\n",
       "      <th>madrid_2007.csv</th>\n",
       "      <td>date</td>\n",
       "      <td>BEN</td>\n",
       "      <td>CO</td>\n",
       "      <td>EBE</td>\n",
       "      <td>MXY</td>\n",
       "      <td>NMHC</td>\n",
       "      <td>NO_2</td>\n",
       "      <td>NOx</td>\n",
       "      <td>OXY</td>\n",
       "      <td>O_3</td>\n",
       "      <td>PM10</td>\n",
       "      <td>PM25</td>\n",
       "      <td>PXY</td>\n",
       "      <td>SO_2</td>\n",
       "      <td>TCH</td>\n",
       "      <td>TOL</td>\n",
       "      <td>station</td>\n",
       "    </tr>\n",
       "    <tr>\n",
       "      <th>madrid_2008.csv</th>\n",
       "      <td>date</td>\n",
       "      <td>BEN</td>\n",
       "      <td>CO</td>\n",
       "      <td>EBE</td>\n",
       "      <td>MXY</td>\n",
       "      <td>NMHC</td>\n",
       "      <td>NO_2</td>\n",
       "      <td>NOx</td>\n",
       "      <td>OXY</td>\n",
       "      <td>O_3</td>\n",
       "      <td>PM10</td>\n",
       "      <td>PM25</td>\n",
       "      <td>PXY</td>\n",
       "      <td>SO_2</td>\n",
       "      <td>TCH</td>\n",
       "      <td>TOL</td>\n",
       "      <td>station</td>\n",
       "    </tr>\n",
       "    <tr>\n",
       "      <th>madrid_2009.csv</th>\n",
       "      <td>date</td>\n",
       "      <td>BEN</td>\n",
       "      <td>CO</td>\n",
       "      <td>EBE</td>\n",
       "      <td>MXY</td>\n",
       "      <td>NMHC</td>\n",
       "      <td>NO_2</td>\n",
       "      <td>NOx</td>\n",
       "      <td>OXY</td>\n",
       "      <td>O_3</td>\n",
       "      <td>PM10</td>\n",
       "      <td>PM25</td>\n",
       "      <td>PXY</td>\n",
       "      <td>SO_2</td>\n",
       "      <td>TCH</td>\n",
       "      <td>TOL</td>\n",
       "      <td>station</td>\n",
       "    </tr>\n",
       "    <tr>\n",
       "      <th>madrid_2010.csv</th>\n",
       "      <td>date</td>\n",
       "      <td>BEN</td>\n",
       "      <td>CO</td>\n",
       "      <td>EBE</td>\n",
       "      <td>MXY</td>\n",
       "      <td>NMHC</td>\n",
       "      <td>NO_2</td>\n",
       "      <td>NOx</td>\n",
       "      <td>OXY</td>\n",
       "      <td>O_3</td>\n",
       "      <td>PM10</td>\n",
       "      <td>PM25</td>\n",
       "      <td>PXY</td>\n",
       "      <td>SO_2</td>\n",
       "      <td>TCH</td>\n",
       "      <td>TOL</td>\n",
       "      <td>station</td>\n",
       "    </tr>\n",
       "    <tr>\n",
       "      <th>madrid_2011.csv</th>\n",
       "      <td>date</td>\n",
       "      <td>BEN</td>\n",
       "      <td>CO</td>\n",
       "      <td>EBE</td>\n",
       "      <td>NMHC</td>\n",
       "      <td>NO</td>\n",
       "      <td>NO_2</td>\n",
       "      <td>O_3</td>\n",
       "      <td>PM10</td>\n",
       "      <td>PM25</td>\n",
       "      <td>SO_2</td>\n",
       "      <td>TCH</td>\n",
       "      <td>TOL</td>\n",
       "      <td>station</td>\n",
       "      <td>None</td>\n",
       "      <td>None</td>\n",
       "      <td>None</td>\n",
       "    </tr>\n",
       "    <tr>\n",
       "      <th>madrid_2012.csv</th>\n",
       "      <td>date</td>\n",
       "      <td>BEN</td>\n",
       "      <td>CO</td>\n",
       "      <td>EBE</td>\n",
       "      <td>NMHC</td>\n",
       "      <td>NO</td>\n",
       "      <td>NO_2</td>\n",
       "      <td>O_3</td>\n",
       "      <td>PM10</td>\n",
       "      <td>PM25</td>\n",
       "      <td>SO_2</td>\n",
       "      <td>TCH</td>\n",
       "      <td>TOL</td>\n",
       "      <td>station</td>\n",
       "      <td>None</td>\n",
       "      <td>None</td>\n",
       "      <td>None</td>\n",
       "    </tr>\n",
       "    <tr>\n",
       "      <th>madrid_2013.csv</th>\n",
       "      <td>date</td>\n",
       "      <td>BEN</td>\n",
       "      <td>CO</td>\n",
       "      <td>EBE</td>\n",
       "      <td>NMHC</td>\n",
       "      <td>NO</td>\n",
       "      <td>NO_2</td>\n",
       "      <td>O_3</td>\n",
       "      <td>PM10</td>\n",
       "      <td>PM25</td>\n",
       "      <td>SO_2</td>\n",
       "      <td>TCH</td>\n",
       "      <td>TOL</td>\n",
       "      <td>station</td>\n",
       "      <td>None</td>\n",
       "      <td>None</td>\n",
       "      <td>None</td>\n",
       "    </tr>\n",
       "    <tr>\n",
       "      <th>madrid_2014.csv</th>\n",
       "      <td>date</td>\n",
       "      <td>BEN</td>\n",
       "      <td>CO</td>\n",
       "      <td>EBE</td>\n",
       "      <td>NMHC</td>\n",
       "      <td>NO</td>\n",
       "      <td>NO_2</td>\n",
       "      <td>O_3</td>\n",
       "      <td>PM10</td>\n",
       "      <td>PM25</td>\n",
       "      <td>SO_2</td>\n",
       "      <td>TCH</td>\n",
       "      <td>TOL</td>\n",
       "      <td>station</td>\n",
       "      <td>None</td>\n",
       "      <td>None</td>\n",
       "      <td>None</td>\n",
       "    </tr>\n",
       "    <tr>\n",
       "      <th>madrid_2015.csv</th>\n",
       "      <td>date</td>\n",
       "      <td>BEN</td>\n",
       "      <td>CO</td>\n",
       "      <td>EBE</td>\n",
       "      <td>NMHC</td>\n",
       "      <td>NO</td>\n",
       "      <td>NO_2</td>\n",
       "      <td>O_3</td>\n",
       "      <td>PM10</td>\n",
       "      <td>PM25</td>\n",
       "      <td>SO_2</td>\n",
       "      <td>TCH</td>\n",
       "      <td>TOL</td>\n",
       "      <td>station</td>\n",
       "      <td>None</td>\n",
       "      <td>None</td>\n",
       "      <td>None</td>\n",
       "    </tr>\n",
       "    <tr>\n",
       "      <th>madrid_2016.csv</th>\n",
       "      <td>date</td>\n",
       "      <td>BEN</td>\n",
       "      <td>CO</td>\n",
       "      <td>EBE</td>\n",
       "      <td>NMHC</td>\n",
       "      <td>NO</td>\n",
       "      <td>NO_2</td>\n",
       "      <td>O_3</td>\n",
       "      <td>PM10</td>\n",
       "      <td>PM25</td>\n",
       "      <td>SO_2</td>\n",
       "      <td>TCH</td>\n",
       "      <td>TOL</td>\n",
       "      <td>station</td>\n",
       "      <td>None</td>\n",
       "      <td>None</td>\n",
       "      <td>None</td>\n",
       "    </tr>\n",
       "    <tr>\n",
       "      <th>madrid_2017.csv</th>\n",
       "      <td>date</td>\n",
       "      <td>BEN</td>\n",
       "      <td>CH4</td>\n",
       "      <td>CO</td>\n",
       "      <td>EBE</td>\n",
       "      <td>NMHC</td>\n",
       "      <td>NO</td>\n",
       "      <td>NO_2</td>\n",
       "      <td>NOx</td>\n",
       "      <td>O_3</td>\n",
       "      <td>PM10</td>\n",
       "      <td>PM25</td>\n",
       "      <td>SO_2</td>\n",
       "      <td>TCH</td>\n",
       "      <td>TOL</td>\n",
       "      <td>station</td>\n",
       "      <td>None</td>\n",
       "    </tr>\n",
       "    <tr>\n",
       "      <th>madrid_2018.csv</th>\n",
       "      <td>date</td>\n",
       "      <td>BEN</td>\n",
       "      <td>CH4</td>\n",
       "      <td>CO</td>\n",
       "      <td>EBE</td>\n",
       "      <td>NMHC</td>\n",
       "      <td>NO</td>\n",
       "      <td>NO_2</td>\n",
       "      <td>NOx</td>\n",
       "      <td>O_3</td>\n",
       "      <td>PM10</td>\n",
       "      <td>PM25</td>\n",
       "      <td>SO_2</td>\n",
       "      <td>TCH</td>\n",
       "      <td>TOL</td>\n",
       "      <td>station</td>\n",
       "      <td>None</td>\n",
       "    </tr>\n",
       "  </tbody>\n",
       "</table>\n",
       "</div>"
      ],
      "text/plain": [
       "                   0    1    2    3     4     5     6     7     8     9   \\\n",
       "madrid_2001.csv  date  BEN   CO  EBE   MXY  NMHC  NO_2   NOx   OXY   O_3   \n",
       "madrid_2002.csv  date  BEN   CO  EBE   MXY  NMHC  NO_2   NOx   OXY   O_3   \n",
       "madrid_2003.csv  date  BEN   CO  EBE   MXY  NMHC  NO_2   NOx   OXY   O_3   \n",
       "madrid_2004.csv  date  BEN   CO  EBE   MXY  NMHC  NO_2   NOx   OXY   O_3   \n",
       "madrid_2005.csv  date  BEN   CO  EBE   MXY  NMHC  NO_2   NOx   OXY   O_3   \n",
       "madrid_2006.csv  date  BEN   CO  EBE   MXY  NMHC  NO_2   NOx   OXY   O_3   \n",
       "madrid_2007.csv  date  BEN   CO  EBE   MXY  NMHC  NO_2   NOx   OXY   O_3   \n",
       "madrid_2008.csv  date  BEN   CO  EBE   MXY  NMHC  NO_2   NOx   OXY   O_3   \n",
       "madrid_2009.csv  date  BEN   CO  EBE   MXY  NMHC  NO_2   NOx   OXY   O_3   \n",
       "madrid_2010.csv  date  BEN   CO  EBE   MXY  NMHC  NO_2   NOx   OXY   O_3   \n",
       "madrid_2011.csv  date  BEN   CO  EBE  NMHC    NO  NO_2   O_3  PM10  PM25   \n",
       "madrid_2012.csv  date  BEN   CO  EBE  NMHC    NO  NO_2   O_3  PM10  PM25   \n",
       "madrid_2013.csv  date  BEN   CO  EBE  NMHC    NO  NO_2   O_3  PM10  PM25   \n",
       "madrid_2014.csv  date  BEN   CO  EBE  NMHC    NO  NO_2   O_3  PM10  PM25   \n",
       "madrid_2015.csv  date  BEN   CO  EBE  NMHC    NO  NO_2   O_3  PM10  PM25   \n",
       "madrid_2016.csv  date  BEN   CO  EBE  NMHC    NO  NO_2   O_3  PM10  PM25   \n",
       "madrid_2017.csv  date  BEN  CH4   CO   EBE  NMHC    NO  NO_2   NOx   O_3   \n",
       "madrid_2018.csv  date  BEN  CH4   CO   EBE  NMHC    NO  NO_2   NOx   O_3   \n",
       "\n",
       "                   10    11    12       13    14       15       16  \n",
       "madrid_2001.csv  PM10   PXY  SO_2      TCH   TOL  station     None  \n",
       "madrid_2002.csv  PM10   PXY  SO_2      TCH   TOL  station     None  \n",
       "madrid_2003.csv  PM10   PXY  SO_2      TCH   TOL  station     None  \n",
       "madrid_2004.csv  PM10  PM25   PXY     SO_2   TCH      TOL  station  \n",
       "madrid_2005.csv  PM10  PM25   PXY     SO_2   TCH      TOL  station  \n",
       "madrid_2006.csv  PM10  PM25   PXY     SO_2   TCH      TOL  station  \n",
       "madrid_2007.csv  PM10  PM25   PXY     SO_2   TCH      TOL  station  \n",
       "madrid_2008.csv  PM10  PM25   PXY     SO_2   TCH      TOL  station  \n",
       "madrid_2009.csv  PM10  PM25   PXY     SO_2   TCH      TOL  station  \n",
       "madrid_2010.csv  PM10  PM25   PXY     SO_2   TCH      TOL  station  \n",
       "madrid_2011.csv  SO_2   TCH   TOL  station  None     None     None  \n",
       "madrid_2012.csv  SO_2   TCH   TOL  station  None     None     None  \n",
       "madrid_2013.csv  SO_2   TCH   TOL  station  None     None     None  \n",
       "madrid_2014.csv  SO_2   TCH   TOL  station  None     None     None  \n",
       "madrid_2015.csv  SO_2   TCH   TOL  station  None     None     None  \n",
       "madrid_2016.csv  SO_2   TCH   TOL  station  None     None     None  \n",
       "madrid_2017.csv  PM10  PM25  SO_2      TCH   TOL  station     None  \n",
       "madrid_2018.csv  PM10  PM25  SO_2      TCH   TOL  station     None  "
      ]
     },
     "execution_count": 5,
     "metadata": {},
     "output_type": "execute_result"
    }
   ],
   "source": [
    "pd.DataFrame.from_dict(col_diff, orient='index')"
   ]
  },
  {
   "cell_type": "code",
   "execution_count": 6,
   "metadata": {},
   "outputs": [],
   "source": [
    "data_concat = pd.concat(dataset,sort=False)\n",
    "#data_concat.to_csv('clean_data.csv',index=False)"
   ]
  },
  {
   "cell_type": "code",
   "execution_count": 7,
   "metadata": {},
   "outputs": [
    {
     "name": "stdout",
     "output_type": "stream",
     "text": [
      "<class 'pandas.core.frame.DataFrame'>\n",
      "Int64Index: 332026 entries, 1 to 69078\n",
      "Data columns (total 19 columns):\n",
      "date       332026 non-null object\n",
      "BEN        332026 non-null float64\n",
      "CO         332026 non-null float64\n",
      "EBE        332026 non-null float64\n",
      "MXY        241742 non-null float64\n",
      "NMHC       332026 non-null float64\n",
      "NO_2       332026 non-null float64\n",
      "NOx        250431 non-null float64\n",
      "OXY        241742 non-null float64\n",
      "O_3        332026 non-null float64\n",
      "PM10       332026 non-null float64\n",
      "PXY        241742 non-null float64\n",
      "SO_2       332026 non-null float64\n",
      "TCH        332026 non-null float64\n",
      "TOL        332026 non-null float64\n",
      "station    332026 non-null int64\n",
      "PM25       236966 non-null float64\n",
      "NO         90284 non-null float64\n",
      "CH4        8689 non-null float64\n",
      "dtypes: float64(17), int64(1), object(1)\n",
      "memory usage: 50.7+ MB\n"
     ]
    }
   ],
   "source": [
    "data_concat.info()"
   ]
  },
  {
   "cell_type": "code",
   "execution_count": 8,
   "metadata": {},
   "outputs": [
    {
     "name": "stdout",
     "output_type": "stream",
     "text": [
      "<class 'pandas.core.frame.DataFrame'>\n",
      "Int64Index: 332026 entries, 1 to 69078\n",
      "Data columns (total 12 columns):\n",
      "date       332026 non-null object\n",
      "BEN        332026 non-null float64\n",
      "CO         332026 non-null float64\n",
      "EBE        332026 non-null float64\n",
      "NMHC       332026 non-null float64\n",
      "NO_2       332026 non-null float64\n",
      "O_3        332026 non-null float64\n",
      "PM10       332026 non-null float64\n",
      "SO_2       332026 non-null float64\n",
      "TCH        332026 non-null float64\n",
      "TOL        332026 non-null float64\n",
      "station    332026 non-null int64\n",
      "dtypes: float64(10), int64(1), object(1)\n",
      "memory usage: 32.9+ MB\n"
     ]
    }
   ],
   "source": [
    "dropFeatures = ['MXY' , 'OXY' , 'PXY' , \n",
    "                'PM25' , 'NO' ,'CH4','NOx']\n",
    "\n",
    "data_clean=data_concat.drop(dropFeatures,axis=1)\n",
    "#data_clean.to_csv('data_clean_remove_some_val.csv',index=False)\n",
    "data_clean.info()"
   ]
  },
  {
   "cell_type": "code",
   "execution_count": 9,
   "metadata": {},
   "outputs": [
    {
     "data": {
      "text/plain": [
       "array(['date', 'BEN', 'CO', 'EBE', 'NMHC', 'NO_2', 'O_3', 'PM10', 'SO_2',\n",
       "       'TCH', 'TOL', 'station'], dtype=object)"
      ]
     },
     "execution_count": 9,
     "metadata": {},
     "output_type": "execute_result"
    }
   ],
   "source": [
    "data_clean.columns.values"
   ]
  },
  {
   "cell_type": "code",
   "execution_count": 10,
   "metadata": {},
   "outputs": [
    {
     "data": {
      "text/html": [
       "<div>\n",
       "<style scoped>\n",
       "    .dataframe tbody tr th:only-of-type {\n",
       "        vertical-align: middle;\n",
       "    }\n",
       "\n",
       "    .dataframe tbody tr th {\n",
       "        vertical-align: top;\n",
       "    }\n",
       "\n",
       "    .dataframe thead th {\n",
       "        text-align: right;\n",
       "    }\n",
       "</style>\n",
       "<table border=\"1\" class=\"dataframe\">\n",
       "  <thead>\n",
       "    <tr style=\"text-align: right;\">\n",
       "      <th></th>\n",
       "      <th>date</th>\n",
       "      <th>BEN</th>\n",
       "      <th>CO</th>\n",
       "      <th>EBE</th>\n",
       "      <th>NMHC</th>\n",
       "      <th>NO_2</th>\n",
       "      <th>O_3</th>\n",
       "      <th>PM10</th>\n",
       "      <th>SO_2</th>\n",
       "      <th>TCH</th>\n",
       "      <th>TOL</th>\n",
       "      <th>station</th>\n",
       "    </tr>\n",
       "  </thead>\n",
       "  <tbody>\n",
       "    <tr>\n",
       "      <th>1</th>\n",
       "      <td>2001-08-01 01:00:00</td>\n",
       "      <td>1.50</td>\n",
       "      <td>0.34</td>\n",
       "      <td>1.49</td>\n",
       "      <td>0.07</td>\n",
       "      <td>56.250000</td>\n",
       "      <td>42.160000</td>\n",
       "      <td>100.599998</td>\n",
       "      <td>8.11</td>\n",
       "      <td>1.24</td>\n",
       "      <td>10.82</td>\n",
       "      <td>28079035</td>\n",
       "    </tr>\n",
       "    <tr>\n",
       "      <th>5</th>\n",
       "      <td>2001-08-01 01:00:00</td>\n",
       "      <td>2.11</td>\n",
       "      <td>0.63</td>\n",
       "      <td>2.48</td>\n",
       "      <td>0.05</td>\n",
       "      <td>66.260002</td>\n",
       "      <td>33.500000</td>\n",
       "      <td>122.699997</td>\n",
       "      <td>6.36</td>\n",
       "      <td>1.23</td>\n",
       "      <td>13.28</td>\n",
       "      <td>28079006</td>\n",
       "    </tr>\n",
       "    <tr>\n",
       "      <th>21</th>\n",
       "      <td>2001-08-01 01:00:00</td>\n",
       "      <td>0.80</td>\n",
       "      <td>0.43</td>\n",
       "      <td>0.71</td>\n",
       "      <td>0.10</td>\n",
       "      <td>27.190001</td>\n",
       "      <td>56.990002</td>\n",
       "      <td>114.300003</td>\n",
       "      <td>10.84</td>\n",
       "      <td>1.42</td>\n",
       "      <td>3.43</td>\n",
       "      <td>28079024</td>\n",
       "    </tr>\n",
       "    <tr>\n",
       "      <th>23</th>\n",
       "      <td>2001-08-01 01:00:00</td>\n",
       "      <td>1.29</td>\n",
       "      <td>0.34</td>\n",
       "      <td>1.41</td>\n",
       "      <td>0.07</td>\n",
       "      <td>40.750000</td>\n",
       "      <td>51.580002</td>\n",
       "      <td>102.199997</td>\n",
       "      <td>7.97</td>\n",
       "      <td>1.30</td>\n",
       "      <td>7.83</td>\n",
       "      <td>28079099</td>\n",
       "    </tr>\n",
       "    <tr>\n",
       "      <th>25</th>\n",
       "      <td>2001-08-01 02:00:00</td>\n",
       "      <td>0.87</td>\n",
       "      <td>0.06</td>\n",
       "      <td>0.88</td>\n",
       "      <td>0.01</td>\n",
       "      <td>29.709999</td>\n",
       "      <td>56.520000</td>\n",
       "      <td>56.290001</td>\n",
       "      <td>6.90</td>\n",
       "      <td>1.17</td>\n",
       "      <td>6.49</td>\n",
       "      <td>28079035</td>\n",
       "    </tr>\n",
       "  </tbody>\n",
       "</table>\n",
       "</div>"
      ],
      "text/plain": [
       "                   date   BEN    CO   EBE  NMHC       NO_2        O_3  \\\n",
       "1   2001-08-01 01:00:00  1.50  0.34  1.49  0.07  56.250000  42.160000   \n",
       "5   2001-08-01 01:00:00  2.11  0.63  2.48  0.05  66.260002  33.500000   \n",
       "21  2001-08-01 01:00:00  0.80  0.43  0.71  0.10  27.190001  56.990002   \n",
       "23  2001-08-01 01:00:00  1.29  0.34  1.41  0.07  40.750000  51.580002   \n",
       "25  2001-08-01 02:00:00  0.87  0.06  0.88  0.01  29.709999  56.520000   \n",
       "\n",
       "          PM10   SO_2   TCH    TOL   station  \n",
       "1   100.599998   8.11  1.24  10.82  28079035  \n",
       "5   122.699997   6.36  1.23  13.28  28079006  \n",
       "21  114.300003  10.84  1.42   3.43  28079024  \n",
       "23  102.199997   7.97  1.30   7.83  28079099  \n",
       "25   56.290001   6.90  1.17   6.49  28079035  "
      ]
     },
     "execution_count": 10,
     "metadata": {},
     "output_type": "execute_result"
    }
   ],
   "source": [
    "data_clean.head()"
   ]
  },
  {
   "cell_type": "code",
   "execution_count": 11,
   "metadata": {},
   "outputs": [],
   "source": [
    "station_name = data_clean.station.unique()"
   ]
  },
  {
   "cell_type": "code",
   "execution_count": 12,
   "metadata": {},
   "outputs": [
    {
     "data": {
      "text/plain": [
       "array([28079035, 28079006, 28079024, 28079099, 28079008], dtype=int64)"
      ]
     },
     "execution_count": 12,
     "metadata": {},
     "output_type": "execute_result"
    }
   ],
   "source": [
    "station_name"
   ]
  },
  {
   "cell_type": "code",
   "execution_count": 13,
   "metadata": {},
   "outputs": [
    {
     "data": {
      "text/plain": [
       "5"
      ]
     },
     "execution_count": 13,
     "metadata": {},
     "output_type": "execute_result"
    }
   ],
   "source": [
    "len(station_name)"
   ]
  },
  {
   "cell_type": "markdown",
   "metadata": {},
   "source": [
    "## 28079035"
   ]
  },
  {
   "cell_type": "code",
   "execution_count": null,
   "metadata": {},
   "outputs": [],
   "source": [
    "air_28079035 = data_clean[data_clean['station']== int(station_name[0])]"
   ]
  },
  {
   "cell_type": "code",
   "execution_count": null,
   "metadata": {},
   "outputs": [],
   "source": [
    "air_28079035.info()"
   ]
  },
  {
   "cell_type": "code",
   "execution_count": null,
   "metadata": {},
   "outputs": [],
   "source": [
    "air_28079035.date.head()"
   ]
  },
  {
   "cell_type": "code",
   "execution_count": null,
   "metadata": {},
   "outputs": [],
   "source": [
    "air_28079035.date.tail()"
   ]
  },
  {
   "cell_type": "markdown",
   "metadata": {},
   "source": [
    "## 28079006"
   ]
  },
  {
   "cell_type": "code",
   "execution_count": null,
   "metadata": {},
   "outputs": [],
   "source": [
    "air_28079006 = data_clean[data_clean['station']== int(station_name[1])]"
   ]
  },
  {
   "cell_type": "code",
   "execution_count": null,
   "metadata": {},
   "outputs": [],
   "source": [
    "air_28079006.info()"
   ]
  },
  {
   "cell_type": "code",
   "execution_count": null,
   "metadata": {},
   "outputs": [],
   "source": [
    "air_28079006.date.head()"
   ]
  },
  {
   "cell_type": "code",
   "execution_count": null,
   "metadata": {},
   "outputs": [],
   "source": [
    "air_28079006.date.tail()"
   ]
  },
  {
   "cell_type": "markdown",
   "metadata": {},
   "source": [
    "## 28079024"
   ]
  },
  {
   "cell_type": "code",
   "execution_count": null,
   "metadata": {},
   "outputs": [],
   "source": [
    "air_28079024 = data_clean[data_clean['station']== int(station_name[2])]"
   ]
  },
  {
   "cell_type": "code",
   "execution_count": null,
   "metadata": {},
   "outputs": [],
   "source": [
    "air_28079024.info()"
   ]
  },
  {
   "cell_type": "code",
   "execution_count": null,
   "metadata": {},
   "outputs": [],
   "source": [
    "air_28079024.date.head()"
   ]
  },
  {
   "cell_type": "code",
   "execution_count": null,
   "metadata": {},
   "outputs": [],
   "source": [
    "air_28079024.date.tail()"
   ]
  },
  {
   "cell_type": "markdown",
   "metadata": {},
   "source": [
    "## 28079099"
   ]
  },
  {
   "cell_type": "code",
   "execution_count": null,
   "metadata": {},
   "outputs": [],
   "source": [
    "air_28079099 = data_clean[data_clean['station']== int(station_name[3])]"
   ]
  },
  {
   "cell_type": "code",
   "execution_count": null,
   "metadata": {},
   "outputs": [],
   "source": [
    "air_28079099.info()"
   ]
  },
  {
   "cell_type": "code",
   "execution_count": null,
   "metadata": {},
   "outputs": [],
   "source": [
    "air_28079099.date.head()"
   ]
  },
  {
   "cell_type": "code",
   "execution_count": null,
   "metadata": {},
   "outputs": [],
   "source": [
    "air_28079099.date.tail()"
   ]
  },
  {
   "cell_type": "markdown",
   "metadata": {},
   "source": [
    "## 28079008"
   ]
  },
  {
   "cell_type": "code",
   "execution_count": null,
   "metadata": {},
   "outputs": [],
   "source": [
    "air_28079008 = data_clean[data_clean['station']== int(station_name[4])]"
   ]
  },
  {
   "cell_type": "code",
   "execution_count": null,
   "metadata": {},
   "outputs": [],
   "source": [
    "air_28079008.info()"
   ]
  },
  {
   "cell_type": "code",
   "execution_count": null,
   "metadata": {},
   "outputs": [],
   "source": [
    "air_28079008.date.head()"
   ]
  },
  {
   "cell_type": "code",
   "execution_count": null,
   "metadata": {},
   "outputs": [],
   "source": [
    "air_28079008.date.tail()"
   ]
  },
  {
   "cell_type": "code",
   "execution_count": null,
   "metadata": {},
   "outputs": [],
   "source": []
  },
  {
   "cell_type": "code",
   "execution_count": null,
   "metadata": {},
   "outputs": [],
   "source": []
  },
  {
   "cell_type": "code",
   "execution_count": null,
   "metadata": {},
   "outputs": [],
   "source": []
  },
  {
   "cell_type": "code",
   "execution_count": null,
   "metadata": {},
   "outputs": [],
   "source": []
  }
 ],
 "metadata": {
  "kernelspec": {
   "display_name": "Python 3",
   "language": "python",
   "name": "python3"
  },
  "language_info": {
   "codemirror_mode": {
    "name": "ipython",
    "version": 3
   },
   "file_extension": ".py",
   "mimetype": "text/x-python",
   "name": "python",
   "nbconvert_exporter": "python",
   "pygments_lexer": "ipython3",
   "version": "3.6.6"
  }
 },
 "nbformat": 4,
 "nbformat_minor": 2
}
